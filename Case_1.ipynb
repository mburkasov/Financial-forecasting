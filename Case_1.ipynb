{
  "nbformat": 4,
  "nbformat_minor": 0,
  "metadata": {
    "colab": {
      "name": "Case 1",
      "provenance": [],
      "collapsed_sections": [],
      "authorship_tag": "ABX9TyOjHWHLopbygQqnf9ZKaiO3",
      "include_colab_link": true
    },
    "kernelspec": {
      "name": "python3",
      "display_name": "Python 3"
    }
  },
  "cells": [
    {
      "cell_type": "markdown",
      "metadata": {
        "id": "view-in-github",
        "colab_type": "text"
      },
      "source": [
        "<a href=\"https://colab.research.google.com/github/mburkasov/Financial-forecasting/blob/main/Case_1.ipynb\" target=\"_parent\"><img src=\"https://colab.research.google.com/assets/colab-badge.svg\" alt=\"Open In Colab\"/></a>"
      ]
    },
    {
      "cell_type": "code",
      "metadata": {
        "id": "1VXZ7u77GT3O"
      },
      "source": [
        "import numpy as np\n",
        "import matplotlib as plt\n",
        "import pandas as pd\n",
        "import statsmodels.api as sm\n",
        "\n",
        "from math import sqrt\n",
        "from google.colab import drive\n",
        "from sklearn import preprocessing\n",
        "from statsmodels.stats.outliers_influence import variance_inflation_factor"
      ],
      "execution_count": null,
      "outputs": []
    },
    {
      "cell_type": "code",
      "metadata": {
        "id": "PdNPOWmU6NMR",
        "colab": {
          "base_uri": "https://localhost:8080/"
        },
        "outputId": "0d1a2ff8-e5e4-4fb2-98e5-aaf5ae7eacef"
      },
      "source": [
        "drive.mount('/content/drive')\n",
        "df1 = pd.read_excel('/content/drive/My Drive/Colab Notebooks/job_satisfaction_train.xlsx')"
      ],
      "execution_count": 19,
      "outputs": [
        {
          "output_type": "stream",
          "name": "stdout",
          "text": [
            "Drive already mounted at /content/drive; to attempt to forcibly remount, call drive.mount(\"/content/drive\", force_remount=True).\n"
          ]
        }
      ]
    },
    {
      "cell_type": "code",
      "metadata": {
        "id": "8A51SpXOL9bf",
        "colab": {
          "base_uri": "https://localhost:8080/"
        },
        "outputId": "590bca70-62f9-47e1-8328-d48db906f457"
      },
      "source": [
        "df = df1.copy()\n",
        "#замена текстовых значений\n",
        "for column in df.select_dtypes(include='object'):\n",
        "  if len(df[column].value_counts().tolist()) < 10:\n",
        "    for n, title in enumerate(df[column].value_counts().index.tolist()):\n",
        "      df[column] = df[column].replace(title, n)\n",
        "#отсортировать по макс значению\n",
        "df = df.loc[:, df.max().sort_values(ascending=False).index]\n",
        "#исправить интернет 8 и 9\n",
        "df['internet'][df['internet']>1] = 1\n",
        "#переставить столбик\n",
        "jobsat = df.pop('jobsat').dropna().astype('int64')\n",
        "print(jobsat)\n",
        "df.insert(0,'jobsat',jobsat)\n",
        "#колонки \n",
        "predict = df.iloc[5400:,1:]\n",
        "df = df.dropna()\n",
        "#сделать категориями\n",
        "#for column in df:\n",
        "#  if df[column].max() < 10:\n",
        "#    df[column] = df[column].astype('category')"
      ],
      "execution_count": 32,
      "outputs": [
        {
          "output_type": "stream",
          "name": "stdout",
          "text": [
            "0       5\n",
            "1       4\n",
            "2       3\n",
            "3       1\n",
            "4       2\n",
            "       ..\n",
            "5395    2\n",
            "5396    2\n",
            "5397    4\n",
            "5398    3\n",
            "5399    1\n",
            "Name: jobsat, Length: 5400, dtype: int64\n"
          ]
        },
        {
          "output_type": "stream",
          "name": "stderr",
          "text": [
            "/usr/local/lib/python3.7/dist-packages/ipykernel_launcher.py:10: SettingWithCopyWarning: \n",
            "A value is trying to be set on a copy of a slice from a DataFrame\n",
            "\n",
            "See the caveats in the documentation: https://pandas.pydata.org/pandas-docs/stable/user_guide/indexing.html#returning-a-view-versus-a-copy\n",
            "  # Remove the CWD from sys.path while we load stuff.\n"
          ]
        }
      ]
    },
    {
      "cell_type": "code",
      "metadata": {
        "id": "WzbPdV4rjkLA"
      },
      "source": [
        "#функция вифа\n",
        "def getvif(X):\n",
        "  vif = pd.DataFrame()\n",
        "  vif[\"variables\"] = X.columns\n",
        "  X = np.array(X, dtype = float)\n",
        "  vif[\"VIF\"] = [variance_inflation_factor(X, i) for i in range(X.shape[1])]\n",
        "  vif = vif.sort_values(by=['VIF'], ascending=False)\n",
        "  return vif\n",
        "#prediction and export\n",
        "def export_prediction(model, x, columns = x.columns, filename = 'output'):\n",
        "  pred = model.predict(sm.add_constant(x[columns]))\n",
        "  export=pd.concat([pd.DataFrame(pred),pd.DataFrame(x)],axis=1)\n",
        "  export.to_excel(f'/content/drive/My Drive/Colab Notebooks/{filename}.xlsx')\n",
        "#forward selection\n",
        "def forward_selection(data, target):\n",
        "    all_columns = data.columns.tolist()\n",
        "    model_columns = []\n",
        "    maxf = 0\n",
        "    while (len(all_columns)>0):\n",
        "      all_columns = list(set(all_columns)-set(model_columns))\n",
        "      currmaxf = 0\n",
        "      for column in all_columns:\n",
        "        model = sm.OLS(target, sm.add_constant(data[model_columns+[column]])).fit()\n",
        "        new_f = model.fvalue\n",
        "        if (currmaxf < new_f):\n",
        "          currmaxf = new_f\n",
        "          best_column = column\n",
        "\n",
        "      if (maxf < currmaxf):\n",
        "        maxf = currmaxf\n",
        "\n",
        "        model_columns.append(best_column)\n",
        "      else:\n",
        "        break\n",
        "    return model_columns\n",
        "#backwards elimination\n",
        "def backward_elimination(data, target, crit = 0.05):\n",
        "    all_columns = data.columns.tolist()\n",
        "    bad_columns = []\n",
        "    while (len(all_columns)>1):\n",
        "      all_columns = list(set(all_columns)-set(bad_columns))\n",
        "      model = sm.OLS(target, sm.add_constant(data[all_columns])).fit()\n",
        "      pval = model.pvalues.sort_values(ascending=False)\n",
        "      if pval[0]>crit:\n",
        "        bad_columns.append(pval.index[0])\n",
        "      else:\n",
        "        break\n",
        "    return all_columns\n",
        "#standart error of the model\n",
        "def model_error (data, columns, step = 600, type = 'OLS'):\n",
        "  data = data[['jobsat']+columns].dropna()\n",
        "  predict = []\n",
        "  for i in range(0,len(data.index),step):\n",
        "    train = data.iloc[np.r_[0:i, i+step:5400],:]\n",
        "    pred = data.iloc[i:i+step,1:]\n",
        "    y = train.iloc[:,0]\n",
        "    x = train.iloc[:,1:]\n",
        "    x = sm.add_constant(x)\n",
        "    pred = sm.add_constant(pred)\n",
        "    model = getattr(sm,type)(y,x).fit()\n",
        "    predict += list(model.predict(pred))\n",
        "  data['prediction'] = predict\n",
        "  data['sterr'] = (data['jobsat'] - data['prediction']) ** 2\n",
        "  sterr = sqrt(data['sterr'].sum() / (len(data.index) - 1 - len(columns)))\n",
        "  print('St. err:', sterr)\n",
        "  return(sterr)"
      ],
      "execution_count": 15,
      "outputs": []
    },
    {
      "cell_type": "code",
      "metadata": {
        "id": "TXNm9V-xDCHd",
        "colab": {
          "base_uri": "https://localhost:8080/",
          "height": 925
        },
        "outputId": "a8d93587-0374-4a2a-9c30-36db1bca5a53"
      },
      "source": [
        "X = df.iloc[0:5400,1:]\n",
        "#X = sm.add_constant(X)\n",
        "getvif(X)"
      ],
      "execution_count": 37,
      "outputs": [
        {
          "output_type": "execute_result",
          "data": {
            "text/html": [
              "<div>\n",
              "<style scoped>\n",
              "    .dataframe tbody tr th:only-of-type {\n",
              "        vertical-align: middle;\n",
              "    }\n",
              "\n",
              "    .dataframe tbody tr th {\n",
              "        vertical-align: top;\n",
              "    }\n",
              "\n",
              "    .dataframe thead th {\n",
              "        text-align: right;\n",
              "    }\n",
              "</style>\n",
              "<table border=\"1\" class=\"dataframe\">\n",
              "  <thead>\n",
              "    <tr style=\"text-align: right;\">\n",
              "      <th></th>\n",
              "      <th>variables</th>\n",
              "      <th>VIF</th>\n",
              "    </tr>\n",
              "  </thead>\n",
              "  <tbody>\n",
              "    <tr>\n",
              "      <th>21</th>\n",
              "      <td>owntv</td>\n",
              "      <td>69.866298</td>\n",
              "    </tr>\n",
              "    <tr>\n",
              "      <th>8</th>\n",
              "      <td>inccat</td>\n",
              "      <td>53.414123</td>\n",
              "    </tr>\n",
              "    <tr>\n",
              "      <th>23</th>\n",
              "      <td>owncd</td>\n",
              "      <td>42.600807</td>\n",
              "    </tr>\n",
              "    <tr>\n",
              "      <th>9</th>\n",
              "      <td>carcat</td>\n",
              "      <td>42.003258</td>\n",
              "    </tr>\n",
              "    <tr>\n",
              "      <th>10</th>\n",
              "      <td>empcat</td>\n",
              "      <td>32.734368</td>\n",
              "    </tr>\n",
              "    <tr>\n",
              "      <th>22</th>\n",
              "      <td>ownvcr</td>\n",
              "      <td>32.452232</td>\n",
              "    </tr>\n",
              "    <tr>\n",
              "      <th>2</th>\n",
              "      <td>age</td>\n",
              "      <td>31.785612</td>\n",
              "    </tr>\n",
              "    <tr>\n",
              "      <th>1</th>\n",
              "      <td>car</td>\n",
              "      <td>21.390237</td>\n",
              "    </tr>\n",
              "    <tr>\n",
              "      <th>3</th>\n",
              "      <td>employ</td>\n",
              "      <td>14.166332</td>\n",
              "    </tr>\n",
              "    <tr>\n",
              "      <th>14</th>\n",
              "      <td>response</td>\n",
              "      <td>9.443690</td>\n",
              "    </tr>\n",
              "    <tr>\n",
              "      <th>7</th>\n",
              "      <td>ed</td>\n",
              "      <td>8.557341</td>\n",
              "    </tr>\n",
              "    <tr>\n",
              "      <th>5</th>\n",
              "      <td>reside</td>\n",
              "      <td>6.775283</td>\n",
              "    </tr>\n",
              "    <tr>\n",
              "      <th>0</th>\n",
              "      <td>income</td>\n",
              "      <td>5.176281</td>\n",
              "    </tr>\n",
              "    <tr>\n",
              "      <th>4</th>\n",
              "      <td>address</td>\n",
              "      <td>4.044339</td>\n",
              "    </tr>\n",
              "    <tr>\n",
              "      <th>11</th>\n",
              "      <td>marital</td>\n",
              "      <td>3.724692</td>\n",
              "    </tr>\n",
              "    <tr>\n",
              "      <th>15</th>\n",
              "      <td>news</td>\n",
              "      <td>2.818591</td>\n",
              "    </tr>\n",
              "    <tr>\n",
              "      <th>20</th>\n",
              "      <td>callwait</td>\n",
              "      <td>2.564862</td>\n",
              "    </tr>\n",
              "    <tr>\n",
              "      <th>19</th>\n",
              "      <td>callid</td>\n",
              "      <td>2.559090</td>\n",
              "    </tr>\n",
              "    <tr>\n",
              "      <th>27</th>\n",
              "      <td>wireless</td>\n",
              "      <td>2.447578</td>\n",
              "    </tr>\n",
              "    <tr>\n",
              "      <th>25</th>\n",
              "      <td>ownpc</td>\n",
              "      <td>2.346269</td>\n",
              "    </tr>\n",
              "    <tr>\n",
              "      <th>16</th>\n",
              "      <td>multline</td>\n",
              "      <td>2.276621</td>\n",
              "    </tr>\n",
              "    <tr>\n",
              "      <th>17</th>\n",
              "      <td>voice</td>\n",
              "      <td>2.134114</td>\n",
              "    </tr>\n",
              "    <tr>\n",
              "      <th>13</th>\n",
              "      <td>gender</td>\n",
              "      <td>1.993898</td>\n",
              "    </tr>\n",
              "    <tr>\n",
              "      <th>12</th>\n",
              "      <td>retire</td>\n",
              "      <td>1.797931</td>\n",
              "    </tr>\n",
              "    <tr>\n",
              "      <th>24</th>\n",
              "      <td>ownpda</td>\n",
              "      <td>1.791459</td>\n",
              "    </tr>\n",
              "    <tr>\n",
              "      <th>6</th>\n",
              "      <td>internet</td>\n",
              "      <td>1.750636</td>\n",
              "    </tr>\n",
              "    <tr>\n",
              "      <th>26</th>\n",
              "      <td>ownfax</td>\n",
              "      <td>1.748264</td>\n",
              "    </tr>\n",
              "    <tr>\n",
              "      <th>18</th>\n",
              "      <td>pager</td>\n",
              "      <td>1.598187</td>\n",
              "    </tr>\n",
              "  </tbody>\n",
              "</table>\n",
              "</div>"
            ],
            "text/plain": [
              "   variables        VIF\n",
              "21     owntv  69.866298\n",
              "8     inccat  53.414123\n",
              "23     owncd  42.600807\n",
              "9     carcat  42.003258\n",
              "10    empcat  32.734368\n",
              "22    ownvcr  32.452232\n",
              "2        age  31.785612\n",
              "1        car  21.390237\n",
              "3     employ  14.166332\n",
              "14  response   9.443690\n",
              "7         ed   8.557341\n",
              "5     reside   6.775283\n",
              "0     income   5.176281\n",
              "4    address   4.044339\n",
              "11   marital   3.724692\n",
              "15      news   2.818591\n",
              "20  callwait   2.564862\n",
              "19    callid   2.559090\n",
              "27  wireless   2.447578\n",
              "25     ownpc   2.346269\n",
              "16  multline   2.276621\n",
              "17     voice   2.134114\n",
              "13    gender   1.993898\n",
              "12    retire   1.797931\n",
              "24    ownpda   1.791459\n",
              "6   internet   1.750636\n",
              "26    ownfax   1.748264\n",
              "18     pager   1.598187"
            ]
          },
          "metadata": {},
          "execution_count": 37
        }
      ]
    },
    {
      "cell_type": "code",
      "metadata": {
        "id": "LLAHpPe2303a"
      },
      "source": [
        "df.corr().round(2)"
      ],
      "execution_count": null,
      "outputs": []
    },
    {
      "cell_type": "code",
      "metadata": {
        "id": "rvxaL-3OAQA8",
        "colab": {
          "base_uri": "https://localhost:8080/"
        },
        "outputId": "0774df23-7032-43f9-f524-768bf362013f"
      },
      "source": [
        "#eliminating VIF more than 10\n",
        "crit = 10\n",
        "X = df.iloc[0:5400,1:]\n",
        "vif = getvif(X)\n",
        "poplist = []\n",
        "while vif.iloc[0,1]>crit:\n",
        "  poplist.append(vif.iloc[0,0])\n",
        "  X.pop(vif.iloc[0,0])\n",
        "  vif = getvif(X)\n",
        "print('popped:',poplist)\n",
        "df = df.drop(poplist, axis=1)"
      ],
      "execution_count": 38,
      "outputs": [
        {
          "output_type": "stream",
          "name": "stdout",
          "text": [
            "popped: ['owntv', 'inccat', 'owncd', 'empcat', 'age', 'carcat', 'ownvcr', 'car']\n"
          ]
        }
      ]
    },
    {
      "cell_type": "code",
      "metadata": {
        "id": "ibuYKQgu0XB5",
        "colab": {
          "base_uri": "https://localhost:8080/"
        },
        "outputId": "58570b9a-72f2-40a8-fe10-cd2bef50bfa0"
      },
      "source": [
        "x = df.iloc[0:5400,1:]\n",
        "y = df.iloc[0:5400,0]\n",
        "col1 = forward_selection(x,y)\n",
        "print(col1)\n",
        "X = df[col1].iloc[0:5400,0:]\n",
        "X = sm.add_constant(X)\n",
        "Y = df.iloc[0:5400,0]\n",
        "model = sm.OLS(Y,X).fit()\n",
        "print(model.summary())\n",
        "model_error(df, col1)"
      ],
      "execution_count": 39,
      "outputs": [
        {
          "output_type": "stream",
          "name": "stdout",
          "text": [
            "['employ']\n",
            "                            OLS Regression Results                            \n",
            "==============================================================================\n",
            "Dep. Variable:                 jobsat   R-squared:                       0.237\n",
            "Model:                            OLS   Adj. R-squared:                  0.236\n",
            "Method:                 Least Squares   F-statistic:                     1673.\n",
            "Date:                Thu, 11 Nov 2021   Prob (F-statistic):          9.52e-319\n",
            "Time:                        18:51:14   Log-Likelihood:                -8641.6\n",
            "No. Observations:                5400   AIC:                         1.729e+04\n",
            "Df Residuals:                    5398   BIC:                         1.730e+04\n",
            "Df Model:                           1                                         \n",
            "Covariance Type:            nonrobust                                         \n",
            "==============================================================================\n",
            "                 coef    std err          t      P>|t|      [0.025      0.975]\n",
            "------------------------------------------------------------------------------\n",
            "const          2.3327      0.024     96.902      0.000       2.285       2.380\n",
            "employ         0.0685      0.002     40.896      0.000       0.065       0.072\n",
            "==============================================================================\n",
            "Omnibus:                      406.675   Durbin-Watson:                   2.012\n",
            "Prob(Omnibus):                  0.000   Jarque-Bera (JB):              136.959\n",
            "Skew:                           0.044   Prob(JB):                     1.82e-30\n",
            "Kurtosis:                       2.225   Cond. No.                         21.3\n",
            "==============================================================================\n",
            "\n",
            "Warnings:\n",
            "[1] Standard Errors assume that the covariance matrix of the errors is correctly specified.\n",
            "St. err: 1.1995493701216402\n"
          ]
        },
        {
          "output_type": "execute_result",
          "data": {
            "text/plain": [
              "1.1995493701216402"
            ]
          },
          "metadata": {},
          "execution_count": 39
        }
      ]
    },
    {
      "cell_type": "code",
      "metadata": {
        "id": "Jna8JcLFB9Me",
        "colab": {
          "base_uri": "https://localhost:8080/"
        },
        "outputId": "a0d87ad3-7080-426f-8ba3-2572e2ca196f"
      },
      "source": [
        "type = 'GLSAR'\n",
        "x = df.iloc[0:5400,1:]\n",
        "y = df.iloc[0:5400,0]\n",
        "col2 = backward_elimination(x,y)\n",
        "print(col2)\n",
        "X = df[col2].iloc[0:5400,0:]\n",
        "X = sm.add_constant(X)\n",
        "Y = df.iloc[0:5400,0]\n",
        "model2 = getattr(sm,type)(Y,X).fit()\n",
        "print(model2.summary())\n",
        "model_error(df, col2, 600, type)\n",
        "export_prediction(model2, predict, col2, 'finalpred')"
      ],
      "execution_count": 40,
      "outputs": [
        {
          "output_type": "stream",
          "name": "stdout",
          "text": [
            "['employ', 'address', 'retire', 'reside', 'marital']\n",
            "                           GLSAR Regression Results                           \n",
            "==============================================================================\n",
            "Dep. Variable:                 jobsat   R-squared:                       0.241\n",
            "Model:                          GLSAR   Adj. R-squared:                  0.240\n",
            "Method:                 Least Squares   F-statistic:                     342.0\n",
            "Date:                Thu, 11 Nov 2021   Prob (F-statistic):          3.48e-319\n",
            "Time:                        18:51:19   Log-Likelihood:                -8624.6\n",
            "No. Observations:                5399   AIC:                         1.726e+04\n",
            "Df Residuals:                    5393   BIC:                         1.730e+04\n",
            "Df Model:                           5                                         \n",
            "Covariance Type:            nonrobust                                         \n",
            "==============================================================================\n",
            "                 coef    std err          t      P>|t|      [0.025      0.975]\n",
            "------------------------------------------------------------------------------\n",
            "const          2.3231      0.041     56.082      0.000       2.242       2.404\n",
            "employ         0.0673      0.002     36.721      0.000       0.064       0.071\n",
            "address        0.0049      0.002      2.753      0.006       0.001       0.008\n",
            "retire        -0.3243      0.080     -4.052      0.000      -0.481      -0.167\n",
            "reside        -0.0368      0.015     -2.423      0.015      -0.067      -0.007\n",
            "marital        0.1328      0.044      3.036      0.002       0.047       0.219\n",
            "==============================================================================\n",
            "Omnibus:                      397.217   Durbin-Watson:                   2.013\n",
            "Prob(Omnibus):                  0.000   Jarque-Bera (JB):              135.575\n",
            "Skew:                           0.049   Prob(JB):                     3.63e-30\n",
            "Kurtosis:                       2.230   Cond. No.                         96.5\n",
            "==============================================================================\n",
            "\n",
            "Warnings:\n",
            "[1] Standard Errors assume that the covariance matrix of the errors is correctly specified.\n",
            "St. err: 1.197635045839989\n"
          ]
        }
      ]
    },
    {
      "cell_type": "code",
      "metadata": {
        "id": "8KGdlJNQfKeD",
        "colab": {
          "base_uri": "https://localhost:8080/"
        },
        "outputId": "7e973d5d-8724-4ea8-d2ef-c19b790a553c"
      },
      "source": [
        "allcol = list(set(df.columns.tolist()) - {'jobsat'})\n",
        "print(allcol)\n",
        "X = df.iloc[0:5400,1:]\n",
        "X = sm.add_constant(X)\n",
        "Y = df.iloc[0:5400,0]\n",
        "model = sm.OLS(Y,X).fit()\n",
        "print(model.summary())\n",
        "model_error(df, allcol)"
      ],
      "execution_count": 43,
      "outputs": [
        {
          "output_type": "stream",
          "name": "stdout",
          "text": [
            "['callwait', 'callid', 'multline', 'ed', 'gender', 'address', 'internet', 'ownpc', 'news', 'ownpda', 'response', 'voice', 'wireless', 'pager', 'employ', 'ownfax', 'income', 'retire', 'marital', 'reside']\n",
            "                            OLS Regression Results                            \n",
            "==============================================================================\n",
            "Dep. Variable:                 jobsat   R-squared:                       0.243\n",
            "Model:                            OLS   Adj. R-squared:                  0.240\n",
            "Method:                 Least Squares   F-statistic:                     86.23\n",
            "Date:                Thu, 11 Nov 2021   Prob (F-statistic):          9.23e-306\n",
            "Time:                        18:52:02   Log-Likelihood:                -8619.5\n",
            "No. Observations:                5400   AIC:                         1.728e+04\n",
            "Df Residuals:                    5379   BIC:                         1.742e+04\n",
            "Df Model:                          20                                         \n",
            "Covariance Type:            nonrobust                                         \n",
            "==============================================================================\n",
            "                 coef    std err          t      P>|t|      [0.025      0.975]\n",
            "------------------------------------------------------------------------------\n",
            "const          2.3689      0.083     28.381      0.000       2.205       2.533\n",
            "income      -5.54e-05      0.000     -0.199      0.842      -0.001       0.000\n",
            "employ         0.0676      0.002     27.289      0.000       0.063       0.072\n",
            "address        0.0052      0.002      2.787      0.005       0.002       0.009\n",
            "reside        -0.0365      0.015     -2.399      0.016      -0.066      -0.007\n",
            "internet      -0.0271      0.040     -0.682      0.495      -0.105       0.051\n",
            "ed            -0.0097      0.016     -0.594      0.552      -0.042       0.022\n",
            "marital        0.1347      0.044      3.052      0.002       0.048       0.221\n",
            "retire        -0.3330      0.085     -3.909      0.000      -0.500      -0.166\n",
            "gender        -0.0147      0.033     -0.450      0.653      -0.079       0.049\n",
            "response      -0.0365      0.054     -0.677      0.499      -0.142       0.069\n",
            "news           0.0391      0.037      1.067      0.286      -0.033       0.111\n",
            "multline       0.0129      0.038      0.342      0.732      -0.061       0.087\n",
            "voice          0.0681      0.036      1.884      0.060      -0.003       0.139\n",
            "pager         -0.0763      0.041     -1.858      0.063      -0.157       0.004\n",
            "callid        -0.0388      0.036     -1.065      0.287      -0.110       0.033\n",
            "callwait       0.0397      0.037      1.082      0.279      -0.032       0.112\n",
            "ownpda         0.0212      0.048      0.441      0.659      -0.073       0.116\n",
            "ownpc         -0.0185      0.037     -0.493      0.622      -0.092       0.055\n",
            "ownfax         0.0228      0.050      0.459      0.646      -0.075       0.120\n",
            "wireless      -0.0375      0.040     -0.932      0.351      -0.116       0.041\n",
            "==============================================================================\n",
            "Omnibus:                      391.874   Durbin-Watson:                   2.012\n",
            "Prob(Omnibus):                  0.000   Jarque-Bera (JB):              134.457\n",
            "Skew:                           0.047   Prob(JB):                     6.36e-30\n",
            "Kurtosis:                       2.233   Cond. No.                         600.\n",
            "==============================================================================\n",
            "\n",
            "Warnings:\n",
            "[1] Standard Errors assume that the covariance matrix of the errors is correctly specified.\n",
            "St. err: 1.2014566376442997\n"
          ]
        },
        {
          "output_type": "execute_result",
          "data": {
            "text/plain": [
              "1.2014566376442997"
            ]
          },
          "metadata": {},
          "execution_count": 43
        }
      ]
    },
    {
      "cell_type": "code",
      "metadata": {
        "id": "mQJ6gaDBWhnh"
      },
      "source": [
        "#bar charts\n",
        "import seaborn as sns\n",
        "dfgraph = df.select_dtypes([np.int, np.float])\n",
        "\n",
        "for i, col in enumerate(dfgraph.columns):\n",
        "  plt.pyplot.figure()\n",
        "  sns.barplot(data = dfgraph, x = 'jobsat',  y = col)"
      ],
      "execution_count": null,
      "outputs": []
    }
  ]
}