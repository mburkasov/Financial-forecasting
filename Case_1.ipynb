{
  "nbformat": 4,
  "nbformat_minor": 0,
  "metadata": {
    "colab": {
      "name": "Case 1",
      "provenance": [],
      "collapsed_sections": [],
      "authorship_tag": "ABX9TyMElpxclA/vGO7HcfTYUaUO",
      "include_colab_link": true
    },
    "kernelspec": {
      "name": "python3",
      "display_name": "Python 3"
    }
  },
  "cells": [
    {
      "cell_type": "markdown",
      "metadata": {
        "id": "view-in-github",
        "colab_type": "text"
      },
      "source": [
        "<a href=\"https://colab.research.google.com/github/mburkasov/Financial-forecasting/blob/main/Case_1.ipynb\" target=\"_parent\"><img src=\"https://colab.research.google.com/assets/colab-badge.svg\" alt=\"Open In Colab\"/></a>"
      ]
    },
    {
      "cell_type": "code",
      "metadata": {
        "id": "1VXZ7u77GT3O"
      },
      "source": [
        "import numpy as np\n",
        "import matplotlib as plt\n",
        "import pandas as pd\n",
        "import statsmodels.api as sm\n",
        "\n",
        "from math import sqrt\n",
        "from google.colab import drive\n",
        "from sklearn import preprocessing\n",
        "from statsmodels.stats.outliers_influence import variance_inflation_factor"
      ],
      "execution_count": null,
      "outputs": []
    },
    {
      "cell_type": "code",
      "metadata": {
        "id": "PdNPOWmU6NMR"
      },
      "source": [
        "drive.mount('/content/drive')\n",
        "df1 = pd.read_excel('/content/drive/My Drive/Colab Notebooks/job_satisfaction_train.xlsx')"
      ],
      "execution_count": null,
      "outputs": []
    },
    {
      "cell_type": "code",
      "metadata": {
        "id": "8A51SpXOL9bf",
        "colab": {
          "base_uri": "https://localhost:8080/",
          "height": 145
        },
        "outputId": "edce4c09-e8e7-40e2-a0d3-2c5c4f7d0f13"
      },
      "source": [
        "df = df1.copy()\n",
        "#замена текстовых значений\n",
        "for column in df.select_dtypes(include='object'):\n",
        "  if len(df[column].value_counts().tolist()) < 10:\n",
        "    for n, title in enumerate(df[column].value_counts().index.tolist()):\n",
        "      df[column] = df[column].replace(title, n)\n",
        "#отсортировать по макс значению\n",
        "df = df.loc[:, df.max().sort_values(ascending=False).index]\n",
        "#исправить странную фигню где интернет 8 и 9??\n",
        "df['internet'][df['internet']>1] = 1\n",
        "#переставить столбик\n",
        "jobsat = np.array(df.pop('jobsat').dropna().astype('int64'))\n",
        "print(jobsat)\n",
        "df.insert(0,'jobsat',jobsat)\n",
        "#колонки \n",
        "predict = df.iloc[5400:,1:]\n",
        "df = df.dropna()\n",
        "#сделать категориями\n",
        "#for column in df:\n",
        "#  if df[column].max() < 10:\n",
        "#    df[column] = df[column].astype('category')"
      ],
      "execution_count": null,
      "outputs": [
        {
          "output_type": "stream",
          "text": [
            "MinMaxScaler(copy=True, feature_range=array([5, 4, 3, ..., 4, 3, 1]))\n"
          ],
          "name": "stdout"
        },
        {
          "output_type": "stream",
          "text": [
            "/usr/local/lib/python3.6/dist-packages/ipykernel_launcher.py:10: SettingWithCopyWarning: \n",
            "A value is trying to be set on a copy of a slice from a DataFrame\n",
            "\n",
            "See the caveats in the documentation: https://pandas.pydata.org/pandas-docs/stable/user_guide/indexing.html#returning-a-view-versus-a-copy\n",
            "  # Remove the CWD from sys.path while we load stuff.\n"
          ],
          "name": "stderr"
        }
      ]
    },
    {
      "cell_type": "code",
      "metadata": {
        "id": "WzbPdV4rjkLA"
      },
      "source": [
        "#функция вифа\n",
        "def getvif(X):\n",
        "  vif = pd.DataFrame()\n",
        "  vif[\"variables\"] = X.columns\n",
        "  X = np.array(X, dtype = float)\n",
        "  vif[\"VIF\"] = [variance_inflation_factor(X, i) for i in range(X.shape[1])]\n",
        "  vif = vif.sort_values(by=['VIF'], ascending=False)\n",
        "  return vif\n",
        "#prediction and export\n",
        "def export_prediction(model, x, columns = x.columns, filename = 'output'):\n",
        "  pred = model.predict(sm.add_constant(x[columns]))\n",
        "  export=pd.concat([pd.DataFrame(pred),pd.DataFrame(x)],axis=1)\n",
        "  export.to_excel(f'/content/drive/My Drive/Colab Notebooks/{filename}.xlsx')\n",
        "#forward selection\n",
        "def forward_selection(data, target):\n",
        "    all_columns = data.columns.tolist()\n",
        "    model_columns = []\n",
        "    maxf = 0\n",
        "    while (len(all_columns)>0):\n",
        "      all_columns = list(set(all_columns)-set(model_columns))\n",
        "      currmaxf = 0\n",
        "      for column in all_columns:\n",
        "        model = sm.OLS(target, sm.add_constant(data[model_columns+[column]])).fit()\n",
        "        new_f = model.fvalue\n",
        "        if (currmaxf < new_f):\n",
        "          currmaxf = new_f\n",
        "          best_column = column\n",
        "\n",
        "      if (maxf < currmaxf):\n",
        "        maxf = currmaxf\n",
        "\n",
        "        model_columns.append(best_column)\n",
        "      else:\n",
        "        break\n",
        "    return model_columns\n",
        "#backwards elimination\n",
        "def backward_elimination(data, target, crit = 0.05):\n",
        "    all_columns = data.columns.tolist()\n",
        "    bad_columns = []\n",
        "    while (len(all_columns)>1):\n",
        "      all_columns = list(set(all_columns)-set(bad_columns))\n",
        "      model = sm.OLS(target, sm.add_constant(data[all_columns])).fit()\n",
        "      pval = model.pvalues.sort_values(ascending=False)\n",
        "      if pval[0]>crit:\n",
        "        bad_columns.append(pval.index[0])\n",
        "      else:\n",
        "        break\n",
        "    return all_columns\n",
        "#standart error of the model\n",
        "def model_error (data, columns, step = 600, type = 'OLS'):\n",
        "  data = data[['jobsat']+columns].dropna()\n",
        "  predict = []\n",
        "  for i in range(0,len(data.index),step):\n",
        "    train = data.iloc[np.r_[0:i, i+step:5400],:]\n",
        "    pred = data.iloc[i:i+step,1:]\n",
        "    y = train.iloc[:,0]\n",
        "    x = train.iloc[:,1:]\n",
        "    x = sm.add_constant(x)\n",
        "    pred = sm.add_constant(pred)\n",
        "    model = getattr(sm,type)(y,x).fit()\n",
        "    predict += list(model.predict(pred))\n",
        "  data['prediction'] = predict\n",
        "  data['sterr'] = (data['jobsat'] - data['prediction']) ** 2\n",
        "  sterr = sqrt(data['sterr'].sum() / (len(data.index) - 1 - len(columns)))\n",
        "  print('St. err:', sterr)\n",
        "  return(sterr)"
      ],
      "execution_count": null,
      "outputs": []
    },
    {
      "cell_type": "code",
      "metadata": {
        "id": "7cK4KKDwfI4Q"
      },
      "source": [
        "df"
      ],
      "execution_count": null,
      "outputs": []
    },
    {
      "cell_type": "code",
      "metadata": {
        "id": "21jCk5P-YLiq"
      },
      "source": [
        "#стандартизация данных\n",
        "x = df#.iloc[:,1:6]\n",
        "#x_scaled = preprocessing.scale(x)\n",
        "x_scaled = preprocessing.MinMaxScaler(x)\n",
        "print\n",
        "x_scaled = pd.DataFrame(x_scaled, columns=x.columns)\n",
        "df[x.columns] = x_scaled\n",
        "#df.select_dtypes(include='category').astype('int64')\n",
        "df"
      ],
      "execution_count": null,
      "outputs": []
    },
    {
      "cell_type": "code",
      "metadata": {
        "id": "TXNm9V-xDCHd"
      },
      "source": [
        "X = df.iloc[0:5400,1:]\n",
        "#X = sm.add_constant(X)\n",
        "getvif(X)"
      ],
      "execution_count": null,
      "outputs": []
    },
    {
      "cell_type": "code",
      "metadata": {
        "id": "LLAHpPe2303a"
      },
      "source": [
        "df.corr().round(2)"
      ],
      "execution_count": null,
      "outputs": []
    },
    {
      "cell_type": "code",
      "metadata": {
        "id": "rvxaL-3OAQA8",
        "colab": {
          "base_uri": "https://localhost:8080/",
          "height": 35
        },
        "outputId": "9fc1240c-6a91-47aa-dd67-64493173f60a"
      },
      "source": [
        "#eliminating VIF more than 10\n",
        "crit = 10\n",
        "X = df.iloc[0:5400,1:]\n",
        "vif = getvif(X)\n",
        "poplist = []\n",
        "while vif.iloc[0,1]>crit:\n",
        "  poplist.append(vif.iloc[0,0])\n",
        "  X.pop(vif.iloc[0,0])\n",
        "  vif = getvif(X)\n",
        "print('popped:',poplist)\n",
        "df = df.drop(poplist, axis=1)"
      ],
      "execution_count": null,
      "outputs": [
        {
          "output_type": "stream",
          "text": [
            "popped: ['owntv', 'inccat', 'owncd', 'empcat', 'age', 'carcat', 'ownvcr', 'car']\n"
          ],
          "name": "stdout"
        }
      ]
    },
    {
      "cell_type": "code",
      "metadata": {
        "id": "ibuYKQgu0XB5",
        "colab": {
          "base_uri": "https://localhost:8080/",
          "height": 521
        },
        "outputId": "5b63e2eb-41ea-48e7-ef6f-d78a55c72970"
      },
      "source": [
        "x = df.iloc[0:5400,1:]\n",
        "y = df.iloc[0:5400,0]\n",
        "col1 = forward_selection(x,y)\n",
        "print(col1)\n",
        "X = df[col1].iloc[0:5400,0:]\n",
        "X = sm.add_constant(X)\n",
        "Y = df.iloc[0:5400,0]\n",
        "model = sm.OLS(Y,X).fit()\n",
        "print(model.summary())\n",
        "model_error(df, col1)"
      ],
      "execution_count": null,
      "outputs": [
        {
          "output_type": "stream",
          "text": [
            "['employ']\n",
            "                            OLS Regression Results                            \n",
            "==============================================================================\n",
            "Dep. Variable:                 jobsat   R-squared:                       0.237\n",
            "Model:                            OLS   Adj. R-squared:                  0.236\n",
            "Method:                 Least Squares   F-statistic:                     1673.\n",
            "Date:                Thu, 01 Oct 2020   Prob (F-statistic):          9.52e-319\n",
            "Time:                        11:59:35   Log-Likelihood:                -8641.6\n",
            "No. Observations:                5400   AIC:                         1.729e+04\n",
            "Df Residuals:                    5398   BIC:                         1.730e+04\n",
            "Df Model:                           1                                         \n",
            "Covariance Type:            nonrobust                                         \n",
            "==============================================================================\n",
            "                 coef    std err          t      P>|t|      [0.025      0.975]\n",
            "------------------------------------------------------------------------------\n",
            "const          2.3327      0.024     96.902      0.000       2.285       2.380\n",
            "employ         0.0685      0.002     40.896      0.000       0.065       0.072\n",
            "==============================================================================\n",
            "Omnibus:                      406.675   Durbin-Watson:                   2.012\n",
            "Prob(Omnibus):                  0.000   Jarque-Bera (JB):              136.959\n",
            "Skew:                           0.044   Prob(JB):                     1.82e-30\n",
            "Kurtosis:                       2.225   Cond. No.                         21.3\n",
            "==============================================================================\n",
            "\n",
            "Warnings:\n",
            "[1] Standard Errors assume that the covariance matrix of the errors is correctly specified.\n",
            "St. err: 1.1995493701216402\n"
          ],
          "name": "stdout"
        },
        {
          "output_type": "execute_result",
          "data": {
            "text/plain": [
              "1.1995493701216402"
            ]
          },
          "metadata": {
            "tags": []
          },
          "execution_count": 19
        }
      ]
    },
    {
      "cell_type": "code",
      "metadata": {
        "id": "Jna8JcLFB9Me",
        "colab": {
          "base_uri": "https://localhost:8080/",
          "height": 575
        },
        "outputId": "de343e63-c22c-44aa-b857-dbacc1e73b55"
      },
      "source": [
        "type = 'GLSAR'\n",
        "x = df.iloc[0:5400,1:]\n",
        "y = df.iloc[0:5400,0]\n",
        "col2 = backward_elimination(x,y)\n",
        "print(col2)\n",
        "X = df[col2].iloc[0:5400,0:]\n",
        "X = sm.add_constant(X)\n",
        "Y = df.iloc[0:5400,0]\n",
        "model2 = getattr(sm,type)(Y,X).fit()\n",
        "print(model2.summary())\n",
        "model_error(df, col2, 600, type)\n",
        "export_prediction(model2, predict, col2, 'finalpred')"
      ],
      "execution_count": null,
      "outputs": [
        {
          "output_type": "stream",
          "text": [
            "['employ', 'ed', 'age', 'inccat', 'empcat']\n",
            "                           GLSAR Regression Results                           \n",
            "==============================================================================\n",
            "Dep. Variable:                 jobsat   R-squared:                       0.264\n",
            "Model:                          GLSAR   Adj. R-squared:                  0.263\n",
            "Method:                 Least Squares   F-statistic:                     386.0\n",
            "Date:                Sat, 03 Oct 2020   Prob (F-statistic):               0.00\n",
            "Time:                        07:59:02   Log-Likelihood:                -8542.4\n",
            "No. Observations:                5399   AIC:                         1.710e+04\n",
            "Df Residuals:                    5393   BIC:                         1.714e+04\n",
            "Df Model:                           5                                         \n",
            "Covariance Type:            nonrobust                                         \n",
            "==============================================================================\n",
            "                 coef    std err          t      P>|t|      [0.025      0.975]\n",
            "------------------------------------------------------------------------------\n",
            "const          1.5157      0.088     17.137      0.000       1.342       1.689\n",
            "employ         0.0228      0.004      6.067      0.000       0.015       0.030\n",
            "ed            -0.0457      0.014     -3.173      0.002      -0.074      -0.017\n",
            "age            0.0049      0.002      2.939      0.003       0.002       0.008\n",
            "inccat         0.1366      0.019      7.055      0.000       0.099       0.175\n",
            "empcat         0.4460      0.043     10.334      0.000       0.361       0.531\n",
            "==============================================================================\n",
            "Omnibus:                      251.302   Durbin-Watson:                   2.014\n",
            "Prob(Omnibus):                  0.000   Jarque-Bera (JB):              103.452\n",
            "Skew:                           0.037   Prob(JB):                     3.43e-23\n",
            "Kurtosis:                       2.326   Cond. No.                         262.\n",
            "==============================================================================\n",
            "\n",
            "Warnings:\n",
            "[1] Standard Errors assume that the covariance matrix of the errors is correctly specified.\n",
            "St. err: 1.179559198409529\n"
          ],
          "name": "stdout"
        }
      ]
    },
    {
      "cell_type": "code",
      "metadata": {
        "id": "1Vx97pfEU7ad",
        "colab": {
          "base_uri": "https://localhost:8080/",
          "height": 640
        },
        "outputId": "9a71f1c4-9214-4142-df71-7abb87144373"
      },
      "source": [
        "type = 'Logit'\n",
        "x = df.iloc[0:5400,1:]\n",
        "y = df.iloc[0:5400,0]\n",
        "col2 = backward_elimination(x,y)\n",
        "print(col2)\n",
        "X = np.array(df[col2].iloc[0:5400,0:])\n",
        "X = sm.add_constant(X)\n",
        "Y = np.array(df.iloc[0:5400,0])\n",
        "\n",
        "model3 = sm.Logit(Y,X).fit()\n",
        "print(model2.summary())\n",
        "model_error(df, col2, 600, type)\n",
        "#export_prediction(model2, predict, col2, 'finalpred')"
      ],
      "execution_count": null,
      "outputs": [
        {
          "output_type": "stream",
          "text": [
            "      employ  ed  age  inccat  empcat\n",
            "0         23   1   55       3       3\n",
            "1         35   1   56       4       3\n",
            "2          4   3   28       2       1\n",
            "3          0   4   24       2       1\n",
            "4          5   2   25       1       2\n",
            "...      ...  ..  ...     ...     ...\n",
            "5395       5   4   33       2       2\n",
            "5396       9   3   49       1       2\n",
            "5397      11   4   35       3       2\n",
            "5398       3   3   39       1       1\n",
            "5399       1   4   24       1       1\n",
            "\n",
            "[5400 rows x 5 columns]\n",
            "['employ', 'ed', 'age', 'inccat', 'empcat']\n"
          ],
          "name": "stdout"
        },
        {
          "output_type": "error",
          "ename": "ValueError",
          "evalue": "ignored",
          "traceback": [
            "\u001b[0;31m---------------------------------------------------------------------------\u001b[0m",
            "\u001b[0;31mValueError\u001b[0m                                Traceback (most recent call last)",
            "\u001b[0;32m<ipython-input-24-e5cda174a6cb>\u001b[0m in \u001b[0;36m<module>\u001b[0;34m()\u001b[0m\n\u001b[1;32m      8\u001b[0m \u001b[0mX\u001b[0m \u001b[0;34m=\u001b[0m \u001b[0msm\u001b[0m\u001b[0;34m.\u001b[0m\u001b[0madd_constant\u001b[0m\u001b[0;34m(\u001b[0m\u001b[0mX\u001b[0m\u001b[0;34m)\u001b[0m\u001b[0;34m\u001b[0m\u001b[0;34m\u001b[0m\u001b[0m\n\u001b[1;32m      9\u001b[0m \u001b[0mY\u001b[0m \u001b[0;34m=\u001b[0m \u001b[0mnp\u001b[0m\u001b[0;34m.\u001b[0m\u001b[0marray\u001b[0m\u001b[0;34m(\u001b[0m\u001b[0mdf\u001b[0m\u001b[0;34m.\u001b[0m\u001b[0miloc\u001b[0m\u001b[0;34m[\u001b[0m\u001b[0;36m0\u001b[0m\u001b[0;34m:\u001b[0m\u001b[0;36m5400\u001b[0m\u001b[0;34m,\u001b[0m\u001b[0;36m0\u001b[0m\u001b[0;34m]\u001b[0m\u001b[0;34m)\u001b[0m\u001b[0;34m\u001b[0m\u001b[0;34m\u001b[0m\u001b[0m\n\u001b[0;32m---> 10\u001b[0;31m \u001b[0mmodel2\u001b[0m \u001b[0;34m=\u001b[0m \u001b[0msm\u001b[0m\u001b[0;34m.\u001b[0m\u001b[0mLogit\u001b[0m\u001b[0;34m(\u001b[0m\u001b[0mY\u001b[0m\u001b[0;34m,\u001b[0m\u001b[0mX\u001b[0m\u001b[0;34m)\u001b[0m\u001b[0;34m.\u001b[0m\u001b[0mfit\u001b[0m\u001b[0;34m(\u001b[0m\u001b[0;34m)\u001b[0m\u001b[0;34m\u001b[0m\u001b[0;34m\u001b[0m\u001b[0m\n\u001b[0m\u001b[1;32m     11\u001b[0m \u001b[0mprint\u001b[0m\u001b[0;34m(\u001b[0m\u001b[0mmodel2\u001b[0m\u001b[0;34m.\u001b[0m\u001b[0msummary\u001b[0m\u001b[0;34m(\u001b[0m\u001b[0;34m)\u001b[0m\u001b[0;34m)\u001b[0m\u001b[0;34m\u001b[0m\u001b[0;34m\u001b[0m\u001b[0m\n\u001b[1;32m     12\u001b[0m \u001b[0mmodel_error\u001b[0m\u001b[0;34m(\u001b[0m\u001b[0mdf\u001b[0m\u001b[0;34m,\u001b[0m \u001b[0mcol2\u001b[0m\u001b[0;34m,\u001b[0m \u001b[0;36m600\u001b[0m\u001b[0;34m,\u001b[0m \u001b[0mtype\u001b[0m\u001b[0;34m)\u001b[0m\u001b[0;34m\u001b[0m\u001b[0;34m\u001b[0m\u001b[0m\n",
            "\u001b[0;32m/usr/local/lib/python3.6/dist-packages/statsmodels/discrete/discrete_model.py\u001b[0m in \u001b[0;36m__init__\u001b[0;34m(self, endog, exog, **kwargs)\u001b[0m\n\u001b[1;32m    430\u001b[0m         if (not issubclass(self.__class__, MultinomialModel) and\n\u001b[1;32m    431\u001b[0m                 not np.all((self.endog >= 0) & (self.endog <= 1))):\n\u001b[0;32m--> 432\u001b[0;31m             \u001b[0;32mraise\u001b[0m \u001b[0mValueError\u001b[0m\u001b[0;34m(\u001b[0m\u001b[0;34m\"endog must be in the unit interval.\"\u001b[0m\u001b[0;34m)\u001b[0m\u001b[0;34m\u001b[0m\u001b[0;34m\u001b[0m\u001b[0m\n\u001b[0m\u001b[1;32m    433\u001b[0m \u001b[0;34m\u001b[0m\u001b[0m\n\u001b[1;32m    434\u001b[0m \u001b[0;34m\u001b[0m\u001b[0m\n",
            "\u001b[0;31mValueError\u001b[0m: endog must be in the unit interval."
          ]
        }
      ]
    },
    {
      "cell_type": "code",
      "metadata": {
        "id": "8KGdlJNQfKeD",
        "colab": {
          "base_uri": "https://localhost:8080/",
          "height": 883
        },
        "outputId": "9c9e8b4c-d09f-4d28-e2f9-5a6455b4eef3"
      },
      "source": [
        "allcol = list(set(df.columns.tolist()) - {'jobsat'})\n",
        "print(allcol)\n",
        "X = df.iloc[0:5400,1:]\n",
        "X = sm.add_constant(X)\n",
        "Y = df.iloc[0:5400,0]\n",
        "model = sm.OLS(Y,X).fit()\n",
        "print(model.summary())\n",
        "model_error(df, allcol)"
      ],
      "execution_count": null,
      "outputs": [
        {
          "output_type": "stream",
          "text": [
            "['wireless', 'ownpc', 'gender', 'callid', 'multline', 'ownfax', 'pager', 'internet', 'retire', 'ownpda', 'income', 'ed', 'voice', 'callwait', 'news', 'reside', 'marital', 'response', 'address', 'employ']\n",
            "                            OLS Regression Results                            \n",
            "==============================================================================\n",
            "Dep. Variable:                 jobsat   R-squared:                       0.243\n",
            "Model:                            OLS   Adj. R-squared:                  0.240\n",
            "Method:                 Least Squares   F-statistic:                     86.23\n",
            "Date:                Thu, 01 Oct 2020   Prob (F-statistic):          9.23e-306\n",
            "Time:                        12:04:42   Log-Likelihood:                -8619.5\n",
            "No. Observations:                5400   AIC:                         1.728e+04\n",
            "Df Residuals:                    5379   BIC:                         1.742e+04\n",
            "Df Model:                          20                                         \n",
            "Covariance Type:            nonrobust                                         \n",
            "==============================================================================\n",
            "                 coef    std err          t      P>|t|      [0.025      0.975]\n",
            "------------------------------------------------------------------------------\n",
            "const          2.3689      0.083     28.381      0.000       2.205       2.533\n",
            "income      -5.54e-05      0.000     -0.199      0.842      -0.001       0.000\n",
            "employ         0.0676      0.002     27.289      0.000       0.063       0.072\n",
            "address        0.0052      0.002      2.787      0.005       0.002       0.009\n",
            "reside        -0.0365      0.015     -2.399      0.016      -0.066      -0.007\n",
            "internet      -0.0271      0.040     -0.682      0.495      -0.105       0.051\n",
            "ed            -0.0097      0.016     -0.594      0.552      -0.042       0.022\n",
            "marital        0.1347      0.044      3.052      0.002       0.048       0.221\n",
            "retire        -0.3330      0.085     -3.909      0.000      -0.500      -0.166\n",
            "gender        -0.0147      0.033     -0.450      0.653      -0.079       0.049\n",
            "response      -0.0365      0.054     -0.677      0.499      -0.142       0.069\n",
            "news           0.0391      0.037      1.067      0.286      -0.033       0.111\n",
            "multline       0.0129      0.038      0.342      0.732      -0.061       0.087\n",
            "voice          0.0681      0.036      1.884      0.060      -0.003       0.139\n",
            "pager         -0.0763      0.041     -1.858      0.063      -0.157       0.004\n",
            "callid        -0.0388      0.036     -1.065      0.287      -0.110       0.033\n",
            "callwait       0.0397      0.037      1.082      0.279      -0.032       0.112\n",
            "ownpda         0.0212      0.048      0.441      0.659      -0.073       0.116\n",
            "ownpc         -0.0185      0.037     -0.493      0.622      -0.092       0.055\n",
            "ownfax         0.0228      0.050      0.459      0.646      -0.075       0.120\n",
            "wireless      -0.0375      0.040     -0.932      0.351      -0.116       0.041\n",
            "==============================================================================\n",
            "Omnibus:                      391.874   Durbin-Watson:                   2.012\n",
            "Prob(Omnibus):                  0.000   Jarque-Bera (JB):              134.457\n",
            "Skew:                           0.047   Prob(JB):                     6.36e-30\n",
            "Kurtosis:                       2.233   Cond. No.                         600.\n",
            "==============================================================================\n",
            "\n",
            "Warnings:\n",
            "[1] Standard Errors assume that the covariance matrix of the errors is correctly specified.\n",
            "St. err: 1.2014566376442997\n"
          ],
          "name": "stdout"
        },
        {
          "output_type": "execute_result",
          "data": {
            "text/plain": [
              "1.2014566376442997"
            ]
          },
          "metadata": {
            "tags": []
          },
          "execution_count": 21
        }
      ]
    },
    {
      "cell_type": "code",
      "metadata": {
        "id": "mQJ6gaDBWhnh"
      },
      "source": [
        "#bar charts\n",
        "dfgraph = df.select_dtypes([np.int, np.float])\n",
        "\n",
        "for i, col in enumerate(dfgraph.columns):\n",
        "  plt.pyplot.figure()\n",
        "  sns.barplot(data = dfgraph, x = 'jobsat',  y = col)"
      ],
      "execution_count": null,
      "outputs": []
    },
    {
      "cell_type": "code",
      "metadata": {
        "id": "7CyTdeCRCpOm"
      },
      "source": [
        "!pip install mord\n",
        "# choose models\n",
        "from sklearn.linear_model import LinearRegression, LogisticRegression\n",
        "from mord import LogisticAT\n",
        "\n",
        "# instantiate models\n",
        "model_linear = LinearRegression()\n",
        "model_1vR = LogisticRegression(multi_class='ovr',\n",
        "    class_weight='balanced')\n",
        "model_multi = LogisticRegression(multi_class='multinomial',\n",
        "    solver='lbfgs',\n",
        "    class_weight='balanced')\n",
        "model_ordinal = LogisticAT(alpha=0)  # alpha parameter set to zero to perform no regularisation"
      ],
      "execution_count": null,
      "outputs": []
    },
    {
      "cell_type": "code",
      "metadata": {
        "id": "eACW8AEMG7Ii",
        "colab": {
          "base_uri": "https://localhost:8080/",
          "height": 419
        },
        "outputId": "674dc400-e99a-4ffd-bd61-d66d6dbe8fa2"
      },
      "source": [
        "df2 = df[col2]\n",
        "df2"
      ],
      "execution_count": null,
      "outputs": [
        {
          "output_type": "execute_result",
          "data": {
            "text/html": [
              "<div>\n",
              "<style scoped>\n",
              "    .dataframe tbody tr th:only-of-type {\n",
              "        vertical-align: middle;\n",
              "    }\n",
              "\n",
              "    .dataframe tbody tr th {\n",
              "        vertical-align: top;\n",
              "    }\n",
              "\n",
              "    .dataframe thead th {\n",
              "        text-align: right;\n",
              "    }\n",
              "</style>\n",
              "<table border=\"1\" class=\"dataframe\">\n",
              "  <thead>\n",
              "    <tr style=\"text-align: right;\">\n",
              "      <th></th>\n",
              "      <th>empcat</th>\n",
              "      <th>inccat</th>\n",
              "      <th>ed</th>\n",
              "      <th>employ</th>\n",
              "      <th>age</th>\n",
              "    </tr>\n",
              "  </thead>\n",
              "  <tbody>\n",
              "    <tr>\n",
              "      <th>0</th>\n",
              "      <td>3</td>\n",
              "      <td>3</td>\n",
              "      <td>1</td>\n",
              "      <td>23</td>\n",
              "      <td>55</td>\n",
              "    </tr>\n",
              "    <tr>\n",
              "      <th>1</th>\n",
              "      <td>3</td>\n",
              "      <td>4</td>\n",
              "      <td>1</td>\n",
              "      <td>35</td>\n",
              "      <td>56</td>\n",
              "    </tr>\n",
              "    <tr>\n",
              "      <th>2</th>\n",
              "      <td>1</td>\n",
              "      <td>2</td>\n",
              "      <td>3</td>\n",
              "      <td>4</td>\n",
              "      <td>28</td>\n",
              "    </tr>\n",
              "    <tr>\n",
              "      <th>3</th>\n",
              "      <td>1</td>\n",
              "      <td>2</td>\n",
              "      <td>4</td>\n",
              "      <td>0</td>\n",
              "      <td>24</td>\n",
              "    </tr>\n",
              "    <tr>\n",
              "      <th>4</th>\n",
              "      <td>2</td>\n",
              "      <td>1</td>\n",
              "      <td>2</td>\n",
              "      <td>5</td>\n",
              "      <td>25</td>\n",
              "    </tr>\n",
              "    <tr>\n",
              "      <th>...</th>\n",
              "      <td>...</td>\n",
              "      <td>...</td>\n",
              "      <td>...</td>\n",
              "      <td>...</td>\n",
              "      <td>...</td>\n",
              "    </tr>\n",
              "    <tr>\n",
              "      <th>5395</th>\n",
              "      <td>2</td>\n",
              "      <td>2</td>\n",
              "      <td>4</td>\n",
              "      <td>5</td>\n",
              "      <td>33</td>\n",
              "    </tr>\n",
              "    <tr>\n",
              "      <th>5396</th>\n",
              "      <td>2</td>\n",
              "      <td>1</td>\n",
              "      <td>3</td>\n",
              "      <td>9</td>\n",
              "      <td>49</td>\n",
              "    </tr>\n",
              "    <tr>\n",
              "      <th>5397</th>\n",
              "      <td>2</td>\n",
              "      <td>3</td>\n",
              "      <td>4</td>\n",
              "      <td>11</td>\n",
              "      <td>35</td>\n",
              "    </tr>\n",
              "    <tr>\n",
              "      <th>5398</th>\n",
              "      <td>1</td>\n",
              "      <td>1</td>\n",
              "      <td>3</td>\n",
              "      <td>3</td>\n",
              "      <td>39</td>\n",
              "    </tr>\n",
              "    <tr>\n",
              "      <th>5399</th>\n",
              "      <td>1</td>\n",
              "      <td>1</td>\n",
              "      <td>4</td>\n",
              "      <td>1</td>\n",
              "      <td>24</td>\n",
              "    </tr>\n",
              "  </tbody>\n",
              "</table>\n",
              "<p>5400 rows × 5 columns</p>\n",
              "</div>"
            ],
            "text/plain": [
              "      empcat  inccat  ed  employ  age\n",
              "0          3       3   1      23   55\n",
              "1          3       4   1      35   56\n",
              "2          1       2   3       4   28\n",
              "3          1       2   4       0   24\n",
              "4          2       1   2       5   25\n",
              "...      ...     ...  ..     ...  ...\n",
              "5395       2       2   4       5   33\n",
              "5396       2       1   3       9   49\n",
              "5397       2       3   4      11   35\n",
              "5398       1       1   3       3   39\n",
              "5399       1       1   4       1   24\n",
              "\n",
              "[5400 rows x 5 columns]"
            ]
          },
          "metadata": {
            "tags": []
          },
          "execution_count": 30
        }
      ]
    },
    {
      "cell_type": "code",
      "metadata": {
        "id": "vTKdkBYqCx3M",
        "colab": {
          "base_uri": "https://localhost:8080/",
          "height": 541
        },
        "outputId": "1c331a60-e16f-4676-f9fe-c3fe351ba8e3"
      },
      "source": [
        "from sklearn.model_selection import cross_val_score\n",
        "from sklearn.metrics import mean_absolute_error\n",
        "from sklearn.metrics import make_scorer\n",
        "import numpy as np\n",
        "\n",
        "# divide df into features matrix and target vector\n",
        "features = df2  #all except quality\n",
        "target = df['jobsat']\n",
        "\n",
        "MAE = make_scorer(mean_absolute_error)\n",
        "folds = 5\n",
        "\n",
        "print('Mean absolute error:' )\n",
        "MAE_linear = cross_val_score(model_linear,\n",
        "    features,\n",
        "    target,\n",
        "    cv=folds,\n",
        "    scoring=MAE)\n",
        "print('Logistic regression (one versus rest): ', np.mean(MAE_1vR))\n",
        "MAE_multi = cross_val_score(model_multi,\n",
        "    features,\n",
        "    target,\n",
        "    cv=folds,\n",
        "    scoring=MAE)\n",
        "print('Logistic regression (multinomial): ', np.mean(MAE_multi))\n",
        "MAE_ordinal = cross_val_score(model_ordinal,\n",
        "    features,\n",
        "    target,\n",
        "    cv=folds,\n",
        "    scoring=MAE)\n",
        "print('Ordered logistic regression: ', np.mean(MAE_ordinal))"
      ],
      "execution_count": null,
      "outputs": [
        {
          "output_type": "stream",
          "text": [
            "Mean absolute error:\n",
            "Logistic regression (one versus rest):  1.140925925925926\n",
            "Logistic regression (multinomial):  nan\n",
            "Ordered logistic regression:  nan\n"
          ],
          "name": "stdout"
        },
        {
          "output_type": "stream",
          "text": [
            "/usr/local/lib/python3.6/dist-packages/sklearn/model_selection/_validation.py:536: FitFailedWarning: Estimator fit failed. The score on this train-test partition for these parameters will be set to nan. Details: \n",
            "ValueError: Unknown label type: 'continuous'\n",
            "\n",
            "  FitFailedWarning)\n",
            "/usr/local/lib/python3.6/dist-packages/sklearn/model_selection/_validation.py:536: FitFailedWarning: Estimator fit failed. The score on this train-test partition for these parameters will be set to nan. Details: \n",
            "ValueError: Unknown label type: 'continuous'\n",
            "\n",
            "  FitFailedWarning)\n",
            "/usr/local/lib/python3.6/dist-packages/sklearn/model_selection/_validation.py:536: FitFailedWarning: Estimator fit failed. The score on this train-test partition for these parameters will be set to nan. Details: \n",
            "ValueError: Unknown label type: 'continuous'\n",
            "\n",
            "  FitFailedWarning)\n",
            "/usr/local/lib/python3.6/dist-packages/sklearn/model_selection/_validation.py:536: FitFailedWarning: Estimator fit failed. The score on this train-test partition for these parameters will be set to nan. Details: \n",
            "ValueError: Unknown label type: 'continuous'\n",
            "\n",
            "  FitFailedWarning)\n",
            "/usr/local/lib/python3.6/dist-packages/sklearn/model_selection/_validation.py:536: FitFailedWarning: Estimator fit failed. The score on this train-test partition for these parameters will be set to nan. Details: \n",
            "ValueError: Unknown label type: 'continuous'\n",
            "\n",
            "  FitFailedWarning)\n",
            "/usr/local/lib/python3.6/dist-packages/sklearn/model_selection/_validation.py:536: FitFailedWarning: Estimator fit failed. The score on this train-test partition for these parameters will be set to nan. Details: \n",
            "ValueError: y must only contain integer values\n",
            "\n",
            "  FitFailedWarning)\n"
          ],
          "name": "stderr"
        }
      ]
    }
  ]
}