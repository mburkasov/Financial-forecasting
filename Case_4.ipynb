{
  "nbformat": 4,
  "nbformat_minor": 0,
  "metadata": {
    "colab": {
      "name": "Case 4",
      "provenance": [],
      "collapsed_sections": [],
      "authorship_tag": "ABX9TyPCekio6M2CY1m4HBf0uw0Q",
      "include_colab_link": true
    },
    "kernelspec": {
      "name": "python3",
      "display_name": "Python 3"
    }
  },
  "cells": [
    {
      "cell_type": "markdown",
      "metadata": {
        "id": "view-in-github",
        "colab_type": "text"
      },
      "source": [
        "<a href=\"https://colab.research.google.com/github/mburkasov/Financial-forecasting/blob/main/Case_4.ipynb\" target=\"_parent\"><img src=\"https://colab.research.google.com/assets/colab-badge.svg\" alt=\"Open In Colab\"/></a>"
      ]
    },
    {
      "cell_type": "code",
      "metadata": {
        "id": "6UtjVxfGlMeq",
        "colab": {
          "base_uri": "https://localhost:8080/"
        },
        "outputId": "585e0bcf-98d1-4203-fc54-6277606a8ca2"
      },
      "source": [
        "import numpy as np\n",
        "import matplotlib.pyplot as plt\n",
        "import pandas as pd\n",
        "import statsmodels.api as sm\n",
        "import requests\n",
        "import sklearn\n",
        "\n",
        "from lightgbm import LGBMClassifier\n",
        "from sklearn import ensemble\n",
        "from datetime import datetime\n",
        "from google.colab import drive\n",
        "from sklearn.metrics import roc_auc_score\n",
        "from sklearn.metrics import roc_curve\n",
        "from sklearn.preprocessing import MinMaxScaler\n",
        "from sklearn.impute import SimpleImputer\n",
        "from statsmodels.stats.outliers_influence import variance_inflation_factor\n",
        "from sklearn.feature_selection import SelectKBest\n",
        "from sklearn.feature_selection import chi2\n",
        "from sklearn.feature_selection import f_classif\n",
        "from sklearn.neural_network import MLPClassifier"
      ],
      "execution_count": 1,
      "outputs": [
        {
          "output_type": "stream",
          "name": "stderr",
          "text": [
            "/usr/local/lib/python3.7/dist-packages/statsmodels/tools/_testing.py:19: FutureWarning: pandas.util.testing is deprecated. Use the functions in the public API at pandas.testing instead.\n",
            "  import pandas.util.testing as tm\n"
          ]
        }
      ]
    },
    {
      "cell_type": "code",
      "metadata": {
        "id": "Dns3Z3vplRQP"
      },
      "source": [
        "excel = requests.get('https://drive.google.com/u/0/uc?id=1l5vsiKJmVH15eMxm1RDH_OtcDX7qfHYu&export=download')\n",
        "df1 = pd.read_excel(excel.content)"
      ],
      "execution_count": 23,
      "outputs": []
    },
    {
      "cell_type": "code",
      "metadata": {
        "id": "2_CcE-9hlVog"
      },
      "source": [
        "def export_prediction(pred, filename = 'output'):\n",
        "  drive.mount('/content/drive')\n",
        "  pred=pd.DataFrame(pred)\n",
        "  pred.to_excel(f'/content/drive/My Drive/Colab Notebooks/{filename}.xlsx')\n",
        "\n",
        "def getvif(X):\n",
        "  vif = pd.DataFrame()\n",
        "  vif[\"variables\"] = X.columns\n",
        "  X = np.array(X, dtype = float)\n",
        "  vif[\"VIF\"] = [variance_inflation_factor(X, i) for i in range(X.shape[1])]\n",
        "  vif = vif.sort_values(by=['VIF'], ascending=False)\n",
        "  if vif.iloc[0,0] == 'const':\n",
        "    vif = vif.iloc[1:]\n",
        "  return vif"
      ],
      "execution_count": 24,
      "outputs": []
    },
    {
      "cell_type": "code",
      "metadata": {
        "id": "QR0oyt21u0b2"
      },
      "source": [
        "df = df1.copy()\n",
        "\n",
        "if 'claimid' in df.columns:\n",
        "  df.pop('claimid')\n",
        "if 'policyid' in df.columns:\n",
        "  df.pop('policyid')\n",
        "\n",
        "if df['deductible'].max() > 10:\n",
        "  df['deductible'] = (df['deductible']//100)/10\n",
        "\n",
        "if 'fraudulent' in df.columns:\n",
        "  target = df.pop('fraudulent')\n",
        "  df.insert(0,'target',target)"
      ],
      "execution_count": 25,
      "outputs": []
    },
    {
      "cell_type": "code",
      "metadata": {
        "id": "Du52WLmKwdXs",
        "colab": {
          "base_uri": "https://localhost:8080/"
        },
        "outputId": "b40af642-76c5-47ec-8ddd-d1424f50b632"
      },
      "source": [
        "today = datetime(2009,1,1)\n",
        "#make days into int\n",
        "dates = (df.select_dtypes(include='datetime')).columns\n",
        "for column in dates:\n",
        "  df[column] = (today - df[column]).dt.days\n",
        "#dates = dates.drop('dob', axis=1)\n",
        "#for column in dates:\n",
        "#  df[column] =  df['dob'] - df[column]\n",
        "#datedf = df[dates.columns]\n",
        "dates"
      ],
      "execution_count": 26,
      "outputs": [
        {
          "output_type": "execute_result",
          "data": {
            "text/plain": [
              "Index(['incident_date', 'policy_date', 'dob', 'job_start_date',\n",
              "       'occupancy_date'],\n",
              "      dtype='object')"
            ]
          },
          "metadata": {},
          "execution_count": 26
        }
      ]
    },
    {
      "cell_type": "code",
      "metadata": {
        "id": "QefWikkH0Fr2"
      },
      "source": [
        "category = []\n",
        "unique = df.nunique()\n",
        "for i in range(len(unique)):\n",
        "  if unique[i] < 10:\n",
        "    category.append(unique.index[i])\n",
        "catdf = df[category]\n",
        "discrete = set(df.columns) - set(category)# - set(dates)\n",
        "discrete.update({'deductible'})\n",
        "discdf = df[discrete]"
      ],
      "execution_count": 27,
      "outputs": []
    },
    {
      "cell_type": "code",
      "metadata": {
        "id": "9VLzfg8ZUQGR"
      },
      "source": [
        "scaler = MinMaxScaler()\n",
        "scaler.fit(discdf)\n",
        "discdf = pd.DataFrame(scaler.transform(discdf), columns=discdf.columns)\n",
        "\n",
        "for column in discdf:\n",
        "  df[column] = discdf[column]"
      ],
      "execution_count": 28,
      "outputs": []
    },
    {
      "cell_type": "code",
      "metadata": {
        "id": "qS2rTb0ZzlPE",
        "colab": {
          "base_uri": "https://localhost:8080/"
        },
        "outputId": "35967f00-ac67-445c-dad2-3d5ccab8de34"
      },
      "source": [
        "crit = 10\n",
        "poplist = []\n",
        "\n",
        "X = df.iloc[0:-1000,1:]\n",
        "X = sm.add_constant(X)\n",
        "\n",
        "vif = getvif(X)\n",
        "while vif.iloc[0,1]>crit:\n",
        "  poplist.append(vif.iloc[0,0])\n",
        "  X.pop(vif.iloc[0,0])\n",
        "  vif = getvif(X)\n",
        "\n",
        "print('popped:',poplist)\n",
        "df = df.drop(poplist, axis=1)"
      ],
      "execution_count": 29,
      "outputs": [
        {
          "output_type": "stream",
          "name": "stdout",
          "text": [
            "popped: ['occupancy_date']\n"
          ]
        }
      ]
    },
    {
      "cell_type": "code",
      "metadata": {
        "id": "VI0vfASnA0ZM",
        "colab": {
          "base_uri": "https://localhost:8080/"
        },
        "outputId": "f1e2a055-7565-4603-d929-cd44ff5d1037"
      },
      "source": [
        "Y = df.iloc[:-1000,0]\n",
        "X = df.iloc[:-1000,1:]\n",
        "\n",
        "k = 6\n",
        "\n",
        "bestfeatures = SelectKBest(score_func=f_classif, k=k)\n",
        "fit = bestfeatures.fit(X,Y)\n",
        "dfscores = pd.DataFrame(fit.scores_)\n",
        "dfcolumns = pd.DataFrame(X.columns)\n",
        "#concat two dataframes for better visualization \n",
        "featureScores = pd.concat([dfcolumns,dfscores],axis=1)\n",
        "featureScores.columns = ['Feature','Score']  #naming the dataframe columns\n",
        "print(featureScores.nlargest(k,'Score'))\n",
        "\n",
        "#list1 = featureScores.nlargest(k,'Score').iloc[:,0].tolist()\n",
        "#featlist = featureScores.nlargest(k,'Score')\n",
        "\n",
        "\n",
        "bestfeatures = SelectKBest(score_func=chi2, k=k)\n",
        "fit = bestfeatures.fit(X,Y)\n",
        "dfscores = pd.DataFrame(fit.scores_)\n",
        "dfcolumns = pd.DataFrame(X.columns)\n",
        "#concat two dataframes for better visualization \n",
        "featureScores = pd.concat([dfcolumns,dfscores],axis=1)\n",
        "featureScores.columns = ['Feature','Score']  #naming the dataframe columns\n",
        "print(featureScores.nlargest(k,'Score'))\n",
        "\n",
        "#list2 = featureScores.nlargest(k,'Score').iloc[:,0].tolist()\n",
        "featlist = featureScores.nlargest(k,'Score')\n",
        "\n",
        "\n",
        "#featlist = pd.concat([featlist, featureScores.nlargest(k,'Score')])\n",
        "#featlist = featlist.sort_values('Score',ascending = False).drop_duplicates(subset=['Feature'], keep='first')"
      ],
      "execution_count": 30,
      "outputs": [
        {
          "output_type": "stream",
          "name": "stdout",
          "text": [
            "           Feature      Score\n",
            "11  job_start_date  11.977580\n",
            "9              dob  11.120955\n",
            "4      policy_date   9.965558\n",
            "1       claim_type   8.202302\n",
            "13          income   7.700146\n",
            "8           gender   2.576086\n",
            "           Feature     Score\n",
            "1       claim_type  6.347413\n",
            "11  job_start_date  1.993958\n",
            "2    uninhabitable  1.820110\n",
            "9              dob  1.775115\n",
            "4      policy_date  1.544936\n",
            "8           gender  1.268593\n"
          ]
        }
      ]
    },
    {
      "cell_type": "code",
      "metadata": {
        "id": "8n_69tGAANC-",
        "colab": {
          "base_uri": "https://localhost:8080/"
        },
        "outputId": "46c99410-3485-456a-8c68-3a1f50f3385d"
      },
      "source": [
        "crit = 1.5\n",
        "featlist = featlist.sort_values('Score',ascending = False).drop_duplicates(subset=['Feature'], keep='first')\n",
        "finallist = featlist[featlist['Score']>crit]['Feature'].tolist() \n",
        "finallist"
      ],
      "execution_count": 31,
      "outputs": [
        {
          "output_type": "execute_result",
          "data": {
            "text/plain": [
              "['claim_type', 'job_start_date', 'uninhabitable', 'dob', 'policy_date']"
            ]
          },
          "metadata": {},
          "execution_count": 31
        }
      ]
    },
    {
      "cell_type": "code",
      "metadata": {
        "id": "swaLMF2DCMKm"
      },
      "source": [
        "features = ['target'] + finallist\n",
        "\n",
        "train = df[features].iloc[:-1500]\n",
        "test = df[features].iloc[-1500:-1000]\n",
        "pred = df[features].iloc[-1000:,1:]\n",
        "\n",
        "#test = df[features].iloc[-1000:]\n",
        "\n",
        "\n",
        "alltrain = df[features].iloc[:-1000]"
      ],
      "execution_count": 32,
      "outputs": []
    },
    {
      "cell_type": "code",
      "metadata": {
        "id": "dqpoQrYWDpRc"
      },
      "source": [
        "y = train.iloc[:,0]\n",
        "x = train.iloc[:,1:]\n",
        "y1 = test.iloc[:,0]\n",
        "x1 = test.iloc[:,1:]\n",
        "y2 = alltrain.iloc[:,0]\n",
        "x2 = alltrain.iloc[:,1:]\n",
        "x=sm.add_constant(x)\n",
        "x1=sm.add_constant(x1)\n",
        "x2=sm.add_constant(x2)\n",
        "pred=sm.add_constant(pred)\n",
        "\n"
      ],
      "execution_count": 33,
      "outputs": []
    },
    {
      "cell_type": "code",
      "metadata": {
        "id": "kWcs4C7DEaCk"
      },
      "source": [
        "#logit\n",
        "logit_model = sm.Logit(y,x).fit()\n",
        "prediction=logit_model.predict(x1)\n",
        "\n",
        "logit_roc_auc=roc_auc_score(y1, prediction)\n",
        "fpr,tpr,thresholds=roc_curve(y1, prediction)\n",
        "\n",
        "logit_model = sm.Logit(y2,x2).fit()\n",
        "prediction = logit_model.predict(pred)\n",
        "export_prediction(prediction)\n",
        "\n",
        "#random forest\n",
        "rf = sklearn.ensemble.RandomForestClassifier().fit(x,y)\n",
        "prediction1=rf.predict_proba(x1)[:,1]\n",
        "\n",
        "logit_roc_auc1=roc_auc_score(y1,prediction1)\n",
        "fpr1,tpr1,thresholds1=roc_curve(y1,prediction1)\n",
        "#gradient boosting\n",
        "gb=sklearn.ensemble.GradientBoostingClassifier().fit(x,y)\n",
        "prediction2 = gb.predict_proba(x1)[:,1]\n",
        "\n",
        "logit_roc_auc2 = roc_auc_score(y1,prediction2)\n",
        "fpr2,tpr2,thresholds2=roc_curve(y1,prediction2)\n",
        "#MLPClassifier\n",
        "nn = MLPClassifier(activation='logistic')\n",
        "\n",
        "nn=nn.fit(x,y)\n",
        "prediction3=nn.predict_proba(x1)[:,1]\n",
        "\n",
        "logit_roc_auc3=roc_auc_score(y1,prediction3)\n",
        "fpr3,tpr3,thresholds3=roc_curve(y1,prediction3)\n",
        "#MLPClassifier\n",
        "from lightgbm import LGBMClassifier\n",
        "\n",
        "clf2 = LGBMClassifier()\n",
        "clf2.fit(x, y)\n",
        "\n",
        "prediction4 = clf2.predict_proba(x1)[:, 1]\n",
        "\n",
        "logit_roc_auc4=roc_auc_score(y1,prediction4)\n",
        "fpr4,tpr4,thresholds4=roc_curve(y1,prediction4)"
      ],
      "execution_count": null,
      "outputs": []
    },
    {
      "cell_type": "code",
      "metadata": {
        "id": "JIhK_62aEavg",
        "colab": {
          "base_uri": "https://localhost:8080/",
          "height": 283
        },
        "outputId": "61b23344-1e8a-4bce-eb4d-ded66d79668f"
      },
      "source": [
        "plt.plot(fpr,tpr,label = 'Logist Regression (area=%0.6f)' % logit_roc_auc)\n",
        "plt.plot(fpr1,tpr1,label = 'Random forest (area=%0.6f)' % logit_roc_auc1)\n",
        "plt.plot(fpr2,tpr2,label = 'GradientBoostingClassifier (area=%0.6f)' % logit_roc_auc2)\n",
        "plt.plot(fpr3,tpr3,label = 'MLPClassifier (area=%0.6f)' % logit_roc_auc3)\n",
        "plt.plot(fpr4,tpr4,label = 'LGBMClassifier (area=%0.6f)' % logit_roc_auc4)\n",
        "\n",
        "\n",
        "t=np.linspace(0,1,10)\n",
        "plt.plot(t,t,linestyle='dashed')\n",
        "plt.legend()"
      ],
      "execution_count": 36,
      "outputs": [
        {
          "output_type": "execute_result",
          "data": {
            "text/plain": [
              "<matplotlib.legend.Legend at 0x7faca23bffd0>"
            ]
          },
          "metadata": {},
          "execution_count": 36
        },
        {
          "output_type": "display_data",
          "data": {
            "image/png": "[encoded data removed]",
            "text/plain": [
              "<Figure size 432x288 with 1 Axes>"
            ]
          },
          "metadata": {
            "needs_background": "light"
          }
        }
      ]
    },
    {
      "cell_type": "code",
      "metadata": {
        "id": "IAutIHYUG5dz"
      },
      "source": [
        ""
      ],
      "execution_count": null,
      "outputs": []
    }
  ]
}