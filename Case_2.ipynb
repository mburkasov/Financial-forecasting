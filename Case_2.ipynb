{
  "nbformat": 4,
  "nbformat_minor": 0,
  "metadata": {
    "colab": {
      "name": "Case 2",
      "provenance": [],
      "collapsed_sections": [],
      "authorship_tag": "ABX9TyM5VXdi9fbuuRNuUAdojAFQ",
      "include_colab_link": true
    },
    "kernelspec": {
      "name": "python3",
      "display_name": "Python 3"
    }
  },
  "cells": [
    {
      "cell_type": "markdown",
      "metadata": {
        "id": "view-in-github",
        "colab_type": "text"
      },
      "source": [
        "<a href=\"https://colab.research.google.com/github/mburkasov/Financial-forecasting/blob/main/Case_2.ipynb\" target=\"_parent\"><img src=\"https://colab.research.google.com/assets/colab-badge.svg\" alt=\"Open In Colab\"/></a>"
      ]
    },
    {
      "cell_type": "code",
      "metadata": {
        "id": "yMHMFay5dYL4"
      },
      "source": [
        "import numpy as np\n",
        "import matplotlib.pyplot as plt\n",
        "import pandas as pd\n",
        "import statsmodels.api as sm\n",
        "import requests\n",
        "\n",
        "from google.colab import drive\n",
        "from sklearn.metrics import roc_auc_score\n",
        "from sklearn.metrics import roc_curve\n",
        "from sklearn.preprocessing import MinMaxScaler\n",
        "from sklearn.impute import SimpleImputer"
      ],
      "execution_count": null,
      "outputs": []
    },
    {
      "cell_type": "code",
      "metadata": {
        "id": "olahF1tHg_Zx"
      },
      "source": [
        "excel = requests.get('https://drive.google.com/u/0/uc?id=1mFvotKrTGKV1j0mBoN_s3RIzm3mtmcoS&export=download')\n",
        "df1 = pd.read_excel(excel.content)"
      ],
      "execution_count": null,
      "outputs": []
    },
    {
      "cell_type": "code",
      "metadata": {
        "id": "L8n5Curi3ex5"
      },
      "source": [
        "def putfirst(list, item):\n",
        "  if item in list:\n",
        "    list.remove(item)\n",
        "    list = [item] + list\n",
        "  return list\n",
        "\n",
        "def export_prediction(pred, filename = 'output'):\n",
        "  drive.mount('/content/drive')\n",
        "  pred=pd.DataFrame(pred)\n",
        "  pred.to_excel(f'/content/drive/My Drive/Colab Notebooks/{filename}.xlsx')"
      ],
      "execution_count": null,
      "outputs": []
    },
    {
      "cell_type": "code",
      "metadata": {
        "id": "C30ezMZtwBUP",
        "colab": {
          "base_uri": "https://localhost:8080/",
          "height": 71
        },
        "outputId": "08552994-3e48-4cbe-f6af-d0de02a4bfbd"
      },
      "source": [
        "df = df1.copy()\n",
        " \n",
        "#remove id column\n",
        "df.pop('SK_ID_CURR')\n",
        " \n",
        "#replace some NAs\n",
        "df['HOUSETYPE_MODE'] = df['HOUSETYPE_MODE'].fillna('No')\n",
        "df['EMERGENCYSTATE_MODE'] = df['EMERGENCYSTATE_MODE'].fillna('No')\n",
        " \n",
        "#make some strings into integer\n",
        "chlist = []\n",
        "for column in df.select_dtypes(include='object'):\n",
        "  naming = df[column].value_counts().index.tolist()\n",
        "  naming = putfirst(naming, 'N')\n",
        "  if len(naming) <= 4:\n",
        "    for n, title in enumerate(naming):\n",
        "      df[column] = df[column].replace(title, n)\n",
        "    chlist.append(column)\n",
        "print('Transformed columns: ',chlist)\n",
        " \n",
        "#remove columns with all the same values\n",
        "print('Removed: ', end='')\n",
        "for column in df.select_dtypes(exclude='object'):\n",
        "  if df[column].max()-df[column].min() == 0:\n",
        "    df.pop(column)\n",
        "    print(column, end=', ')\n",
        " \n",
        "#make other strings into columns\n",
        "df = pd.get_dummies(df)\n",
        " \n",
        "columns = df.columns.to_list()"
      ],
      "execution_count": null,
      "outputs": [
        {
          "output_type": "stream",
          "text": [
            "Transformed columns:  ['NAME_CONTRACT_TYPE', 'CODE_GENDER', 'FLAG_OWN_CAR', 'FLAG_OWN_REALTY', 'FONDKAPREMONT_MODE', 'HOUSETYPE_MODE', 'EMERGENCYSTATE_MODE']\n",
            "Removed: FLAG_MOBIL, FLAG_DOCUMENT_2, FLAG_DOCUMENT_7, FLAG_DOCUMENT_10, FLAG_DOCUMENT_12, "
          ],
          "name": "stdout"
        }
      ]
    },
    {
      "cell_type": "code",
      "metadata": {
        "id": "aRQkp16Rt_Ec"
      },
      "source": [
        "for column in df:\n",
        "  nacount = df[column].isna().sum()\n",
        "  if nacount > 0:\n",
        "    print(column, nacount)"
      ],
      "execution_count": null,
      "outputs": []
    },
    {
      "cell_type": "code",
      "metadata": {
        "id": "h6jVbCiRMVKU"
      },
      "source": [
        "df.corr().abs().sort_values('TARGET', ascending=False).round(2).head(15)"
      ],
      "execution_count": null,
      "outputs": []
    },
    {
      "cell_type": "code",
      "metadata": {
        "id": "MRuoIVC-Urpg"
      },
      "source": [
        " \n",
        "#заменить на моду для категорий\n",
        "imputer = SimpleImputer(strategy = 'median')\n",
        "scaler = MinMaxScaler()\n",
        " \n",
        "imputer.fit(df)\n",
        "df = imputer.transform(df)\n",
        "\n",
        "scaler.fit(df)\n",
        "df = scaler.transform(df)"
      ],
      "execution_count": null,
      "outputs": []
    },
    {
      "cell_type": "code",
      "metadata": {
        "id": "pJhi0VQdXsz5"
      },
      "source": [
        "columns.remove('TARGET')"
      ],
      "execution_count": null,
      "outputs": []
    },
    {
      "cell_type": "code",
      "metadata": {
        "id": "1PN_ErG-ic2E",
        "colab": {
          "base_uri": "https://localhost:8080/",
          "height": 561
        },
        "outputId": "2f28ced7-ee40-4176-9789-3c1f397224bf"
      },
      "source": [
        "from sklearn.feature_selection import SelectKBest\n",
        "from sklearn.feature_selection import chi2\n",
        "from sklearn.feature_selection import f_classif\n",
        "\n",
        "Y = df[:,0]\n",
        "X = df[:,1:]\n",
        "\n",
        "k = 15\n",
        "\n",
        "bestfeatures = SelectKBest(score_func=f_classif, k=k)\n",
        "fit = bestfeatures.fit(X,Y)\n",
        "dfscores = pd.DataFrame(fit.scores_)\n",
        "dfcolumns = pd.DataFrame(columns)\n",
        "#concat two dataframes for better visualization \n",
        "featureScores = pd.concat([dfcolumns,dfscores],axis=1)\n",
        "featureScores.columns = ['Specs','Score']  #naming the dataframe columns\n",
        "print(featureScores.nlargest(k,'Score'))\n",
        "\n",
        "list1 = featureScores.nlargest(15,'Score').iloc[:,0].tolist()\n",
        "\n",
        "bestfeatures = SelectKBest(score_func=chi2, k=k)\n",
        "fit = bestfeatures.fit(X,Y)\n",
        "dfscores = pd.DataFrame(fit.scores_)\n",
        "dfcolumns = pd.DataFrame(columns)\n",
        "#concat two dataframes for better visualization \n",
        "featureScores = pd.concat([dfcolumns,dfscores],axis=1)\n",
        "featureScores.columns = ['Specs','Score']  #naming the dataframe columns\n",
        "print(featureScores.nlargest(k,'Score'))\n",
        "\n",
        "list2 = featureScores.nlargest(5,'Score').iloc[:,0].tolist()"
      ],
      "execution_count": null,
      "outputs": [
        {
          "output_type": "stream",
          "text": [
            "                                                 Specs       Score\n",
            "32                                        EXT_SOURCE_3  199.457764\n",
            "31                                        EXT_SOURCE_2  152.930900\n",
            "30                                        EXT_SOURCE_1   51.019117\n",
            "119               NAME_EDUCATION_TYPE_Higher education   35.698871\n",
            "22                         REGION_RATING_CLIENT_W_CITY   34.958701\n",
            "21                                REGION_RATING_CLIENT   34.261682\n",
            "10                                          DAYS_BIRTH   32.222351\n",
            "117                           NAME_INCOME_TYPE_Working   26.695472\n",
            "122  NAME_EDUCATION_TYPE_Secondary / secondary special   26.025817\n",
            "13                                     DAYS_ID_PUBLISH   25.486116\n",
            "83                              DAYS_LAST_PHONE_CHANGE   22.485063\n",
            "80                            DEF_30_CNT_SOCIAL_CIRCLE   20.633790\n",
            "12                                   DAYS_REGISTRATION   18.631203\n",
            "1                                          CODE_GENDER   17.016110\n",
            "8                                      AMT_GOODS_PRICE   16.478036\n",
            "                                                 Specs      Score\n",
            "119               NAME_EDUCATION_TYPE_Higher education  26.868099\n",
            "32                                        EXT_SOURCE_3  13.350943\n",
            "117                           NAME_INCOME_TYPE_Working  12.722201\n",
            "31                                        EXT_SOURCE_2  12.306580\n",
            "1                                          CODE_GENDER  11.228308\n",
            "115                     NAME_INCOME_TYPE_State servant  10.191756\n",
            "28                              REG_CITY_NOT_WORK_CITY   8.567351\n",
            "122  NAME_EDUCATION_TYPE_Secondary / secondary special   7.528037\n",
            "0                                   NAME_CONTRACT_TYPE   6.823917\n",
            "173                 ORGANIZATION_TYPE_Industry: type 1   6.717095\n",
            "199                         ORGANIZATION_TYPE_Security   6.564612\n",
            "142                           OCCUPATION_TYPE_Laborers   5.899868\n",
            "80                            DEF_30_CNT_SOCIAL_CIRCLE   5.773875\n",
            "27                              REG_CITY_NOT_LIVE_CITY   5.354557\n",
            "216                              ORGANIZATION_TYPE_XNA   5.160009\n"
          ],
          "name": "stdout"
        }
      ]
    },
    {
      "cell_type": "code",
      "metadata": {
        "id": "aG6oLg0XYlH5"
      },
      "source": [
        "different = set(list2) - set(list1)\n",
        "different = __builtins__.list(different)\n",
        "finallist = list1 + different"
      ],
      "execution_count": null,
      "outputs": []
    },
    {
      "cell_type": "code",
      "metadata": {
        "id": "_7fI0VC1N7Uy"
      },
      "source": [
        "df = pd.DataFrame(df, columns=['TARGET'] + columns)\n",
        "features = ['TARGET'] + finallist\n",
        "\n",
        "train = df[features].iloc[:-2000]\n",
        "test = df[features].iloc[-2000:-1000]\n",
        "pred = df[features].iloc[-1000:,1:]\n",
        "\n",
        "alltrain = df[features].iloc[:-1000]"
      ],
      "execution_count": null,
      "outputs": []
    },
    {
      "cell_type": "code",
      "metadata": {
        "id": "4Lx_MND0z7RN"
      },
      "source": [
        "y = train.iloc[:,0]\n",
        "x = train.iloc[:,1:]\n",
        "y1 = test.iloc[:,0]\n",
        "x1 = test.iloc[:,1:]\n",
        "y2 = alltrain.iloc[:,0]\n",
        "x2 = alltrain.iloc[:,1:]\n",
        "x=sm.add_constant(x)\n",
        "x1=sm.add_constant(x1)\n",
        "x2=sm.add_constant(x2)\n",
        "pred=sm.add_constant(pred)"
      ],
      "execution_count": null,
      "outputs": []
    },
    {
      "cell_type": "code",
      "metadata": {
        "id": "VI7pN990TPot",
        "colab": {
          "base_uri": "https://localhost:8080/",
          "height": 68
        },
        "outputId": "d479e356-e814-490f-a847-1de5f0b85ff0"
      },
      "source": [
        "logit_model = sm.Logit(y,x).fit()\n",
        "prediction=logit_model.predict(x1)\n",
        "\n",
        "logit_roc_auc=roc_auc_score(y1, prediction)\n",
        "fpr,tpr,thresholds=roc_curve(y1, prediction)"
      ],
      "execution_count": null,
      "outputs": [
        {
          "output_type": "stream",
          "text": [
            "Optimization terminated successfully.\n",
            "         Current function value: 0.234379\n",
            "         Iterations 8\n"
          ],
          "name": "stdout"
        }
      ]
    },
    {
      "cell_type": "code",
      "metadata": {
        "id": "k3HadNDxMi4l"
      },
      "source": [
        "import sklearn\n",
        "from sklearn import ensemble\n",
        "rf = sklearn.ensemble.RandomForestClassifier().fit(x,y)\n",
        "prediction1=rf.predict_proba(x1)[:,1]\n",
        "\n",
        "logit_roc_auc1=roc_auc_score(y1,prediction1)\n",
        "fpr1,tpr1,thresholds1=roc_curve(y1,prediction1)"
      ],
      "execution_count": null,
      "outputs": []
    },
    {
      "cell_type": "code",
      "metadata": {
        "id": "lcHFeJovMviX"
      },
      "source": [
        "gb=sklearn.ensemble.GradientBoostingClassifier().fit(x,y)\n",
        "prediction2 = gb.predict_proba(x1)[:,1]\n",
        "\n",
        "logit_roc_auc2 = roc_auc_score(y1,prediction2)\n",
        "fpr2,tpr2,thresholds2=roc_curve(y1,prediction2)"
      ],
      "execution_count": null,
      "outputs": []
    },
    {
      "cell_type": "code",
      "metadata": {
        "id": "aMfPIweUN_bH",
        "colab": {
          "base_uri": "https://localhost:8080/",
          "height": 34
        },
        "outputId": "25d64762-fde0-4f8c-f756-8a92559eca1f"
      },
      "source": [
        "from sklearn.neural_network import MLPClassifier\n",
        "nn = MLPClassifier(activation='logistic')\n",
        "\n",
        "nn=nn.fit(x,y)\n",
        "prediction3=nn.predict_proba(x1)[:,1]\n",
        "\n",
        "logit_roc_auc3=roc_auc_score(y1,prediction3)\n",
        "fpr3,tpr3,thresholds3=roc_curve(y1,prediction3)\n",
        "\n",
        "nn=nn.fit(x2,y2)\n",
        "predictionexport=nn.predict_proba(pred)[:,1]\n",
        "export_prediction(predictionexport)"
      ],
      "execution_count": null,
      "outputs": [
        {
          "output_type": "stream",
          "text": [
            "Mounted at /content/drive\n"
          ],
          "name": "stdout"
        }
      ]
    },
    {
      "cell_type": "code",
      "metadata": {
        "id": "ex6qayn4p3tP"
      },
      "source": [
        "from lightgbm import LGBMClassifier\n",
        "\n",
        "clf2 = LGBMClassifier()\n",
        "clf2.fit(x, y)\n",
        "\n",
        "prediction4 = clf2.predict_proba(x1)[:, 1]\n",
        "\n",
        "logit_roc_auc4=roc_auc_score(y1,prediction4)\n",
        "fpr4,tpr4,thresholds4=roc_curve(y1,prediction4)"
      ],
      "execution_count": null,
      "outputs": []
    },
    {
      "cell_type": "code",
      "metadata": {
        "id": "aJsvcQx2114I",
        "colab": {
          "base_uri": "https://localhost:8080/",
          "height": 282
        },
        "outputId": "f3ab3028-2d4c-49e3-a4a8-5dd0b3a95770"
      },
      "source": [
        "plt.plot(fpr,tpr,label = 'Logist Regression (area=%0.6f)' % logit_roc_auc)\n",
        "plt.plot(fpr1,tpr1,label = 'Random forest (area=%0.6f)' % logit_roc_auc1)\n",
        "plt.plot(fpr2,tpr2,label = 'GradientBoostingClassifier (area=%0.6f)' % logit_roc_auc2)\n",
        "plt.plot(fpr3,tpr3,label = 'MLPClassifier (area=%0.6f)' % logit_roc_auc3)\n",
        "plt.plot(fpr4,tpr4,label = 'LGBMClassifier (area=%0.6f)' % logit_roc_auc4)\n",
        "\n",
        "t=np.linspace(0,1,10)\n",
        "plt.plot(t,t,linestyle='dashed')\n",
        "plt.legend()"
      ],
      "execution_count": null,
      "outputs": [
        {
          "output_type": "execute_result",
          "data": {
            "text/plain": [
              "<matplotlib.legend.Legend at 0x7f8b3e08e400>"
            ]
          },
          "metadata": {
            "tags": []
          },
          "execution_count": 17
        },
        {
          "output_type": "display_data",
          "data": {
            "image/png": "[encoded data removed]",
            "text/plain": [
              "<Figure size 432x288 with 1 Axes>"
            ]
          },
          "metadata": {
            "tags": [],
            "needs_background": "light"
          }
        }
      ]
    }
  ]
}